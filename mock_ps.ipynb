{
 "cells": [
  {
   "cell_type": "markdown",
   "id": "7b653ef5",
   "metadata": {},
   "source": [
    "# This is the sample practice notebook (1st Copy)"
   ]
  },
  {
   "cell_type": "code",
   "execution_count": 8,
   "id": "79b6976a",
   "metadata": {},
   "outputs": [
    {
     "name": "stdout",
     "output_type": "stream",
     "text": [
      "Requirement already satisfied: tqdm in c:\\users\\keshav\\anaconda3\\lib\\site-packages (4.66.5)\n",
      "Requirement already satisfied: dask in c:\\users\\keshav\\anaconda3\\lib\\site-packages (2024.8.2)\n",
      "Requirement already satisfied: pyarrow in c:\\users\\keshav\\anaconda3\\lib\\site-packages (16.1.0)\n",
      "Requirement already satisfied: seaborn in c:\\users\\keshav\\anaconda3\\lib\\site-packages (0.13.2)\n",
      "Requirement already satisfied: scipy in c:\\users\\keshav\\anaconda3\\lib\\site-packages (1.13.1)\n",
      "Requirement already satisfied: colorama in c:\\users\\keshav\\anaconda3\\lib\\site-packages (from tqdm) (0.4.6)\n",
      "Requirement already satisfied: click>=8.1 in c:\\users\\keshav\\anaconda3\\lib\\site-packages (from dask) (8.1.7)\n",
      "Requirement already satisfied: cloudpickle>=3.0.0 in c:\\users\\keshav\\anaconda3\\lib\\site-packages (from dask) (3.0.0)\n",
      "Requirement already satisfied: fsspec>=2021.09.0 in c:\\users\\keshav\\anaconda3\\lib\\site-packages (from dask) (2024.6.1)\n",
      "Requirement already satisfied: packaging>=20.0 in c:\\users\\keshav\\anaconda3\\lib\\site-packages (from dask) (24.1)\n",
      "Requirement already satisfied: partd>=1.4.0 in c:\\users\\keshav\\anaconda3\\lib\\site-packages (from dask) (1.4.1)\n",
      "Requirement already satisfied: pyyaml>=5.3.1 in c:\\users\\keshav\\anaconda3\\lib\\site-packages (from dask) (6.0.1)\n",
      "Requirement already satisfied: toolz>=0.10.0 in c:\\users\\keshav\\anaconda3\\lib\\site-packages (from dask) (0.12.0)\n",
      "Requirement already satisfied: numpy>=1.16.6 in c:\\users\\keshav\\anaconda3\\lib\\site-packages (from pyarrow) (1.26.4)\n",
      "Requirement already satisfied: pandas>=1.2 in c:\\users\\keshav\\anaconda3\\lib\\site-packages (from seaborn) (2.2.2)\n",
      "Requirement already satisfied: matplotlib!=3.6.1,>=3.4 in c:\\users\\keshav\\anaconda3\\lib\\site-packages (from seaborn) (3.9.2)\n",
      "Requirement already satisfied: contourpy>=1.0.1 in c:\\users\\keshav\\anaconda3\\lib\\site-packages (from matplotlib!=3.6.1,>=3.4->seaborn) (1.2.0)\n",
      "Requirement already satisfied: cycler>=0.10 in c:\\users\\keshav\\anaconda3\\lib\\site-packages (from matplotlib!=3.6.1,>=3.4->seaborn) (0.11.0)\n",
      "Requirement already satisfied: fonttools>=4.22.0 in c:\\users\\keshav\\anaconda3\\lib\\site-packages (from matplotlib!=3.6.1,>=3.4->seaborn) (4.51.0)\n",
      "Requirement already satisfied: kiwisolver>=1.3.1 in c:\\users\\keshav\\anaconda3\\lib\\site-packages (from matplotlib!=3.6.1,>=3.4->seaborn) (1.4.4)\n",
      "Requirement already satisfied: pillow>=8 in c:\\users\\keshav\\anaconda3\\lib\\site-packages (from matplotlib!=3.6.1,>=3.4->seaborn) (10.4.0)\n",
      "Requirement already satisfied: pyparsing>=2.3.1 in c:\\users\\keshav\\anaconda3\\lib\\site-packages (from matplotlib!=3.6.1,>=3.4->seaborn) (3.1.2)\n",
      "Requirement already satisfied: python-dateutil>=2.7 in c:\\users\\keshav\\anaconda3\\lib\\site-packages (from matplotlib!=3.6.1,>=3.4->seaborn) (2.9.0.post0)\n",
      "Requirement already satisfied: pytz>=2020.1 in c:\\users\\keshav\\anaconda3\\lib\\site-packages (from pandas>=1.2->seaborn) (2024.1)\n",
      "Requirement already satisfied: tzdata>=2022.7 in c:\\users\\keshav\\anaconda3\\lib\\site-packages (from pandas>=1.2->seaborn) (2023.3)\n",
      "Requirement already satisfied: locket in c:\\users\\keshav\\anaconda3\\lib\\site-packages (from partd>=1.4.0->dask) (1.0.0)\n",
      "Requirement already satisfied: six>=1.5 in c:\\users\\keshav\\anaconda3\\lib\\site-packages (from python-dateutil>=2.7->matplotlib!=3.6.1,>=3.4->seaborn) (1.16.0)\n",
      "Note: you may need to restart the kernel to use updated packages.\n"
     ]
    }
   ],
   "source": [
    "pip install tqdm dask pyarrow seaborn scipy\n"
   ]
  },
  {
   "cell_type": "code",
   "execution_count": 9,
   "id": "0c39d512",
   "metadata": {},
   "outputs": [],
   "source": [
    "# --- Core numerical + data libraries ---\n",
    "import pandas as pd\n",
    "import numpy as np\n",
    "\n",
    "# --- Plotting libraries (for small visualizations) ---\n",
    "import matplotlib.pyplot as plt\n",
    "import seaborn as sns\n",
    "\n",
    "# --- Performance + system utilities ---\n",
    "import time\n",
    "from tqdm import tqdm\n",
    "\n",
    "# --- Statistical + scientific tools ---\n",
    "from scipy import stats\n",
    "\n",
    "# --- (Optional) high-performance helpers ---\n",
    "import dask.dataframe as dd  # use if file is extremely large\n",
    "import pyarrow as pa\n",
    "import pyarrow.parquet as pq\n",
    "\n",
    "\n"
   ]
  },
  {
   "cell_type": "code",
   "execution_count": 10,
   "id": "841870f3",
   "metadata": {},
   "outputs": [
    {
     "ename": "FileNotFoundError",
     "evalue": "[Errno 2] No such file or directory: 'C:\\\\Users\\\\KESHAV\\\\Downloads\\\\Copy of day0.csv'",
     "output_type": "error",
     "traceback": [
      "\u001b[1;31m---------------------------------------------------------------------------\u001b[0m",
      "\u001b[1;31mFileNotFoundError\u001b[0m                         Traceback (most recent call last)",
      "Cell \u001b[1;32mIn[10], line 4\u001b[0m\n\u001b[0;32m      2\u001b[0m file_path \u001b[38;5;241m=\u001b[39m \u001b[38;5;124m\"\u001b[39m\u001b[38;5;124mC:\u001b[39m\u001b[38;5;130;01m\\\\\u001b[39;00m\u001b[38;5;124mUsers\u001b[39m\u001b[38;5;130;01m\\\\\u001b[39;00m\u001b[38;5;124mKESHAV\u001b[39m\u001b[38;5;130;01m\\\\\u001b[39;00m\u001b[38;5;124mDownloads\u001b[39m\u001b[38;5;130;01m\\\\\u001b[39;00m\u001b[38;5;124mCopy of day0.csv\u001b[39m\u001b[38;5;124m\"\u001b[39m\n\u001b[0;32m      3\u001b[0m \u001b[38;5;66;03m# Read only first 500 rows to preview structure\u001b[39;00m\n\u001b[1;32m----> 4\u001b[0m df_preview \u001b[38;5;241m=\u001b[39m pd\u001b[38;5;241m.\u001b[39mread_csv(file_path, nrows\u001b[38;5;241m=\u001b[39m\u001b[38;5;241m500\u001b[39m)\n\u001b[0;32m      5\u001b[0m \u001b[38;5;28mprint\u001b[39m(\u001b[38;5;124m\"\u001b[39m\u001b[38;5;124m✅ Preview loaded successfully!\u001b[39m\u001b[38;5;124m\"\u001b[39m)\n\u001b[0;32m      6\u001b[0m \u001b[38;5;28mprint\u001b[39m(\u001b[38;5;124m\"\u001b[39m\u001b[38;5;124mShape:\u001b[39m\u001b[38;5;124m\"\u001b[39m, df_preview\u001b[38;5;241m.\u001b[39mshape)\n",
      "File \u001b[1;32mc:\\Users\\KESHAV\\anaconda3\\Lib\\site-packages\\pandas\\io\\parsers\\readers.py:1026\u001b[0m, in \u001b[0;36mread_csv\u001b[1;34m(filepath_or_buffer, sep, delimiter, header, names, index_col, usecols, dtype, engine, converters, true_values, false_values, skipinitialspace, skiprows, skipfooter, nrows, na_values, keep_default_na, na_filter, verbose, skip_blank_lines, parse_dates, infer_datetime_format, keep_date_col, date_parser, date_format, dayfirst, cache_dates, iterator, chunksize, compression, thousands, decimal, lineterminator, quotechar, quoting, doublequote, escapechar, comment, encoding, encoding_errors, dialect, on_bad_lines, delim_whitespace, low_memory, memory_map, float_precision, storage_options, dtype_backend)\u001b[0m\n\u001b[0;32m   1013\u001b[0m kwds_defaults \u001b[38;5;241m=\u001b[39m _refine_defaults_read(\n\u001b[0;32m   1014\u001b[0m     dialect,\n\u001b[0;32m   1015\u001b[0m     delimiter,\n\u001b[1;32m   (...)\u001b[0m\n\u001b[0;32m   1022\u001b[0m     dtype_backend\u001b[38;5;241m=\u001b[39mdtype_backend,\n\u001b[0;32m   1023\u001b[0m )\n\u001b[0;32m   1024\u001b[0m kwds\u001b[38;5;241m.\u001b[39mupdate(kwds_defaults)\n\u001b[1;32m-> 1026\u001b[0m \u001b[38;5;28;01mreturn\u001b[39;00m _read(filepath_or_buffer, kwds)\n",
      "File \u001b[1;32mc:\\Users\\KESHAV\\anaconda3\\Lib\\site-packages\\pandas\\io\\parsers\\readers.py:620\u001b[0m, in \u001b[0;36m_read\u001b[1;34m(filepath_or_buffer, kwds)\u001b[0m\n\u001b[0;32m    617\u001b[0m _validate_names(kwds\u001b[38;5;241m.\u001b[39mget(\u001b[38;5;124m\"\u001b[39m\u001b[38;5;124mnames\u001b[39m\u001b[38;5;124m\"\u001b[39m, \u001b[38;5;28;01mNone\u001b[39;00m))\n\u001b[0;32m    619\u001b[0m \u001b[38;5;66;03m# Create the parser.\u001b[39;00m\n\u001b[1;32m--> 620\u001b[0m parser \u001b[38;5;241m=\u001b[39m TextFileReader(filepath_or_buffer, \u001b[38;5;241m*\u001b[39m\u001b[38;5;241m*\u001b[39mkwds)\n\u001b[0;32m    622\u001b[0m \u001b[38;5;28;01mif\u001b[39;00m chunksize \u001b[38;5;129;01mor\u001b[39;00m iterator:\n\u001b[0;32m    623\u001b[0m     \u001b[38;5;28;01mreturn\u001b[39;00m parser\n",
      "File \u001b[1;32mc:\\Users\\KESHAV\\anaconda3\\Lib\\site-packages\\pandas\\io\\parsers\\readers.py:1620\u001b[0m, in \u001b[0;36mTextFileReader.__init__\u001b[1;34m(self, f, engine, **kwds)\u001b[0m\n\u001b[0;32m   1617\u001b[0m     \u001b[38;5;28mself\u001b[39m\u001b[38;5;241m.\u001b[39moptions[\u001b[38;5;124m\"\u001b[39m\u001b[38;5;124mhas_index_names\u001b[39m\u001b[38;5;124m\"\u001b[39m] \u001b[38;5;241m=\u001b[39m kwds[\u001b[38;5;124m\"\u001b[39m\u001b[38;5;124mhas_index_names\u001b[39m\u001b[38;5;124m\"\u001b[39m]\n\u001b[0;32m   1619\u001b[0m \u001b[38;5;28mself\u001b[39m\u001b[38;5;241m.\u001b[39mhandles: IOHandles \u001b[38;5;241m|\u001b[39m \u001b[38;5;28;01mNone\u001b[39;00m \u001b[38;5;241m=\u001b[39m \u001b[38;5;28;01mNone\u001b[39;00m\n\u001b[1;32m-> 1620\u001b[0m \u001b[38;5;28mself\u001b[39m\u001b[38;5;241m.\u001b[39m_engine \u001b[38;5;241m=\u001b[39m \u001b[38;5;28mself\u001b[39m\u001b[38;5;241m.\u001b[39m_make_engine(f, \u001b[38;5;28mself\u001b[39m\u001b[38;5;241m.\u001b[39mengine)\n",
      "File \u001b[1;32mc:\\Users\\KESHAV\\anaconda3\\Lib\\site-packages\\pandas\\io\\parsers\\readers.py:1880\u001b[0m, in \u001b[0;36mTextFileReader._make_engine\u001b[1;34m(self, f, engine)\u001b[0m\n\u001b[0;32m   1878\u001b[0m     \u001b[38;5;28;01mif\u001b[39;00m \u001b[38;5;124m\"\u001b[39m\u001b[38;5;124mb\u001b[39m\u001b[38;5;124m\"\u001b[39m \u001b[38;5;129;01mnot\u001b[39;00m \u001b[38;5;129;01min\u001b[39;00m mode:\n\u001b[0;32m   1879\u001b[0m         mode \u001b[38;5;241m+\u001b[39m\u001b[38;5;241m=\u001b[39m \u001b[38;5;124m\"\u001b[39m\u001b[38;5;124mb\u001b[39m\u001b[38;5;124m\"\u001b[39m\n\u001b[1;32m-> 1880\u001b[0m \u001b[38;5;28mself\u001b[39m\u001b[38;5;241m.\u001b[39mhandles \u001b[38;5;241m=\u001b[39m get_handle(\n\u001b[0;32m   1881\u001b[0m     f,\n\u001b[0;32m   1882\u001b[0m     mode,\n\u001b[0;32m   1883\u001b[0m     encoding\u001b[38;5;241m=\u001b[39m\u001b[38;5;28mself\u001b[39m\u001b[38;5;241m.\u001b[39moptions\u001b[38;5;241m.\u001b[39mget(\u001b[38;5;124m\"\u001b[39m\u001b[38;5;124mencoding\u001b[39m\u001b[38;5;124m\"\u001b[39m, \u001b[38;5;28;01mNone\u001b[39;00m),\n\u001b[0;32m   1884\u001b[0m     compression\u001b[38;5;241m=\u001b[39m\u001b[38;5;28mself\u001b[39m\u001b[38;5;241m.\u001b[39moptions\u001b[38;5;241m.\u001b[39mget(\u001b[38;5;124m\"\u001b[39m\u001b[38;5;124mcompression\u001b[39m\u001b[38;5;124m\"\u001b[39m, \u001b[38;5;28;01mNone\u001b[39;00m),\n\u001b[0;32m   1885\u001b[0m     memory_map\u001b[38;5;241m=\u001b[39m\u001b[38;5;28mself\u001b[39m\u001b[38;5;241m.\u001b[39moptions\u001b[38;5;241m.\u001b[39mget(\u001b[38;5;124m\"\u001b[39m\u001b[38;5;124mmemory_map\u001b[39m\u001b[38;5;124m\"\u001b[39m, \u001b[38;5;28;01mFalse\u001b[39;00m),\n\u001b[0;32m   1886\u001b[0m     is_text\u001b[38;5;241m=\u001b[39mis_text,\n\u001b[0;32m   1887\u001b[0m     errors\u001b[38;5;241m=\u001b[39m\u001b[38;5;28mself\u001b[39m\u001b[38;5;241m.\u001b[39moptions\u001b[38;5;241m.\u001b[39mget(\u001b[38;5;124m\"\u001b[39m\u001b[38;5;124mencoding_errors\u001b[39m\u001b[38;5;124m\"\u001b[39m, \u001b[38;5;124m\"\u001b[39m\u001b[38;5;124mstrict\u001b[39m\u001b[38;5;124m\"\u001b[39m),\n\u001b[0;32m   1888\u001b[0m     storage_options\u001b[38;5;241m=\u001b[39m\u001b[38;5;28mself\u001b[39m\u001b[38;5;241m.\u001b[39moptions\u001b[38;5;241m.\u001b[39mget(\u001b[38;5;124m\"\u001b[39m\u001b[38;5;124mstorage_options\u001b[39m\u001b[38;5;124m\"\u001b[39m, \u001b[38;5;28;01mNone\u001b[39;00m),\n\u001b[0;32m   1889\u001b[0m )\n\u001b[0;32m   1890\u001b[0m \u001b[38;5;28;01massert\u001b[39;00m \u001b[38;5;28mself\u001b[39m\u001b[38;5;241m.\u001b[39mhandles \u001b[38;5;129;01mis\u001b[39;00m \u001b[38;5;129;01mnot\u001b[39;00m \u001b[38;5;28;01mNone\u001b[39;00m\n\u001b[0;32m   1891\u001b[0m f \u001b[38;5;241m=\u001b[39m \u001b[38;5;28mself\u001b[39m\u001b[38;5;241m.\u001b[39mhandles\u001b[38;5;241m.\u001b[39mhandle\n",
      "File \u001b[1;32mc:\\Users\\KESHAV\\anaconda3\\Lib\\site-packages\\pandas\\io\\common.py:873\u001b[0m, in \u001b[0;36mget_handle\u001b[1;34m(path_or_buf, mode, encoding, compression, memory_map, is_text, errors, storage_options)\u001b[0m\n\u001b[0;32m    868\u001b[0m \u001b[38;5;28;01melif\u001b[39;00m \u001b[38;5;28misinstance\u001b[39m(handle, \u001b[38;5;28mstr\u001b[39m):\n\u001b[0;32m    869\u001b[0m     \u001b[38;5;66;03m# Check whether the filename is to be opened in binary mode.\u001b[39;00m\n\u001b[0;32m    870\u001b[0m     \u001b[38;5;66;03m# Binary mode does not support 'encoding' and 'newline'.\u001b[39;00m\n\u001b[0;32m    871\u001b[0m     \u001b[38;5;28;01mif\u001b[39;00m ioargs\u001b[38;5;241m.\u001b[39mencoding \u001b[38;5;129;01mand\u001b[39;00m \u001b[38;5;124m\"\u001b[39m\u001b[38;5;124mb\u001b[39m\u001b[38;5;124m\"\u001b[39m \u001b[38;5;129;01mnot\u001b[39;00m \u001b[38;5;129;01min\u001b[39;00m ioargs\u001b[38;5;241m.\u001b[39mmode:\n\u001b[0;32m    872\u001b[0m         \u001b[38;5;66;03m# Encoding\u001b[39;00m\n\u001b[1;32m--> 873\u001b[0m         handle \u001b[38;5;241m=\u001b[39m \u001b[38;5;28mopen\u001b[39m(\n\u001b[0;32m    874\u001b[0m             handle,\n\u001b[0;32m    875\u001b[0m             ioargs\u001b[38;5;241m.\u001b[39mmode,\n\u001b[0;32m    876\u001b[0m             encoding\u001b[38;5;241m=\u001b[39mioargs\u001b[38;5;241m.\u001b[39mencoding,\n\u001b[0;32m    877\u001b[0m             errors\u001b[38;5;241m=\u001b[39merrors,\n\u001b[0;32m    878\u001b[0m             newline\u001b[38;5;241m=\u001b[39m\u001b[38;5;124m\"\u001b[39m\u001b[38;5;124m\"\u001b[39m,\n\u001b[0;32m    879\u001b[0m         )\n\u001b[0;32m    880\u001b[0m     \u001b[38;5;28;01melse\u001b[39;00m:\n\u001b[0;32m    881\u001b[0m         \u001b[38;5;66;03m# Binary mode\u001b[39;00m\n\u001b[0;32m    882\u001b[0m         handle \u001b[38;5;241m=\u001b[39m \u001b[38;5;28mopen\u001b[39m(handle, ioargs\u001b[38;5;241m.\u001b[39mmode)\n",
      "\u001b[1;31mFileNotFoundError\u001b[0m: [Errno 2] No such file or directory: 'C:\\\\Users\\\\KESHAV\\\\Downloads\\\\Copy of day0.csv'"
     ]
    }
   ],
   "source": [
    "\n",
    "# Path to your CSV — change if your filename or location differs\n",
    "file_path = \"C:\\\\Users\\\\KESHAV\\\\Downloads\\\\Copy of day0.csv\"\n",
    "# Read only first 500 rows to preview structure\n",
    "df_preview = pd.read_csv(file_path, nrows=500)\n",
    "print(\"✅ Preview loaded successfully!\")\n",
    "print(\"Shape:\", df_preview.shape)\n",
    "print(\"Columns:\", len(df_preview.columns))\n",
    "df_preview.head(3)\n"
   ]
  },
  {
   "cell_type": "code",
   "execution_count": null,
   "id": "297a472b",
   "metadata": {},
   "outputs": [
    {
     "name": "stdout",
     "output_type": "stream",
     "text": [
      " Column summary:\n"
     ]
    },
    {
     "data": {
      "text/html": [
       "<div>\n",
       "<style scoped>\n",
       "    .dataframe tbody tr th:only-of-type {\n",
       "        vertical-align: middle;\n",
       "    }\n",
       "\n",
       "    .dataframe tbody tr th {\n",
       "        vertical-align: top;\n",
       "    }\n",
       "\n",
       "    .dataframe thead th {\n",
       "        text-align: right;\n",
       "    }\n",
       "</style>\n",
       "<table border=\"1\" class=\"dataframe\">\n",
       "  <thead>\n",
       "    <tr style=\"text-align: right;\">\n",
       "      <th></th>\n",
       "      <th>dtype</th>\n",
       "      <th>num_missing</th>\n",
       "      <th>num_unique</th>\n",
       "    </tr>\n",
       "  </thead>\n",
       "  <tbody>\n",
       "    <tr>\n",
       "      <th>Time</th>\n",
       "      <td>object</td>\n",
       "      <td>0</td>\n",
       "      <td>500</td>\n",
       "    </tr>\n",
       "    <tr>\n",
       "      <th>Price</th>\n",
       "      <td>float64</td>\n",
       "      <td>0</td>\n",
       "      <td>359</td>\n",
       "    </tr>\n",
       "    <tr>\n",
       "      <th>PB1_T1</th>\n",
       "      <td>float64</td>\n",
       "      <td>5</td>\n",
       "      <td>368</td>\n",
       "    </tr>\n",
       "    <tr>\n",
       "      <th>PB1_T2</th>\n",
       "      <td>float64</td>\n",
       "      <td>10</td>\n",
       "      <td>389</td>\n",
       "    </tr>\n",
       "    <tr>\n",
       "      <th>PB1_T3</th>\n",
       "      <td>float64</td>\n",
       "      <td>30</td>\n",
       "      <td>414</td>\n",
       "    </tr>\n",
       "    <tr>\n",
       "      <th>PB1_T4</th>\n",
       "      <td>float64</td>\n",
       "      <td>60</td>\n",
       "      <td>398</td>\n",
       "    </tr>\n",
       "    <tr>\n",
       "      <th>PB1_T5</th>\n",
       "      <td>float64</td>\n",
       "      <td>90</td>\n",
       "      <td>381</td>\n",
       "    </tr>\n",
       "    <tr>\n",
       "      <th>PB1_T6</th>\n",
       "      <td>float64</td>\n",
       "      <td>120</td>\n",
       "      <td>354</td>\n",
       "    </tr>\n",
       "    <tr>\n",
       "      <th>PB1_T7</th>\n",
       "      <td>float64</td>\n",
       "      <td>300</td>\n",
       "      <td>190</td>\n",
       "    </tr>\n",
       "    <tr>\n",
       "      <th>PB1_T8</th>\n",
       "      <td>float64</td>\n",
       "      <td>500</td>\n",
       "      <td>0</td>\n",
       "    </tr>\n",
       "    <tr>\n",
       "      <th>PB1_T9</th>\n",
       "      <td>float64</td>\n",
       "      <td>500</td>\n",
       "      <td>0</td>\n",
       "    </tr>\n",
       "    <tr>\n",
       "      <th>PB1_T10</th>\n",
       "      <td>float64</td>\n",
       "      <td>500</td>\n",
       "      <td>0</td>\n",
       "    </tr>\n",
       "    <tr>\n",
       "      <th>PB1_T11</th>\n",
       "      <td>float64</td>\n",
       "      <td>500</td>\n",
       "      <td>0</td>\n",
       "    </tr>\n",
       "    <tr>\n",
       "      <th>PB1_T12</th>\n",
       "      <td>float64</td>\n",
       "      <td>500</td>\n",
       "      <td>0</td>\n",
       "    </tr>\n",
       "    <tr>\n",
       "      <th>PB2_T1</th>\n",
       "      <td>float64</td>\n",
       "      <td>10</td>\n",
       "      <td>445</td>\n",
       "    </tr>\n",
       "  </tbody>\n",
       "</table>\n",
       "</div>"
      ],
      "text/plain": [
       "           dtype  num_missing  num_unique\n",
       "Time      object            0         500\n",
       "Price    float64            0         359\n",
       "PB1_T1   float64            5         368\n",
       "PB1_T2   float64           10         389\n",
       "PB1_T3   float64           30         414\n",
       "PB1_T4   float64           60         398\n",
       "PB1_T5   float64           90         381\n",
       "PB1_T6   float64          120         354\n",
       "PB1_T7   float64          300         190\n",
       "PB1_T8   float64          500           0\n",
       "PB1_T9   float64          500           0\n",
       "PB1_T10  float64          500           0\n",
       "PB1_T11  float64          500           0\n",
       "PB1_T12  float64          500           0\n",
       "PB2_T1   float64           10         445"
      ]
     },
     "metadata": {},
     "output_type": "display_data"
    }
   ],
   "source": [
    "df_info = pd.DataFrame({\n",
    "    'dtype': df_preview.dtypes,\n",
    "    'num_missing': df_preview.isna().sum(),\n",
    "    'num_unique': df_preview.nunique()\n",
    "})\n",
    "\n",
    "print(\" Column summary:\")\n",
    "display(df_info.head(15))\n"
   ]
  },
  {
   "cell_type": "code",
   "execution_count": null,
   "id": "61713764",
   "metadata": {},
   "outputs": [
    {
     "name": "stdout",
     "output_type": "stream",
     "text": [
      "Loaded 22,439 rows so far…\n",
      "\n",
      "Day 0 loaded successfully\n",
      "Shape : (22439, 437)\n",
      "Memory (MB): 38.71\n"
     ]
    },
    {
     "name": "stderr",
     "output_type": "stream",
     "text": [
      "C:\\Users\\KESHAV\\AppData\\Local\\Temp\\ipykernel_4328\\795117931.py:16: FutureWarning: DataFrame.fillna with 'method' is deprecated and will raise in a future version. Use obj.ffill() or obj.bfill() instead.\n",
      "  chunk.fillna(method=\"ffill\", inplace=True)\n",
      "C:\\Users\\KESHAV\\AppData\\Local\\Temp\\ipykernel_4328\\795117931.py:17: FutureWarning: DataFrame.fillna with 'method' is deprecated and will raise in a future version. Use obj.ffill() or obj.bfill() instead.\n",
      "  chunk.fillna(method=\"bfill\", inplace=True)\n"
     ]
    }
   ],
   "source": [
    "\n",
    "import os\n",
    "\n",
    "file_path = \"C:\\\\Users\\\\KESHAV\\\\Downloads\\\\Copy of day0.csv\"\n",
    "# Decide how many rows per read; adjust if your system has <16 GB RAM\n",
    "chunk_size = 250_000\n",
    "chunks = []\n",
    "rows_loaded = 0\n",
    "\n",
    "for chunk in pd.read_csv(file_path, chunksize=chunk_size):\n",
    "    # convert big float columns to float32 to save memory\n",
    "    float_cols = chunk.select_dtypes(include=[\"float64\"]).columns\n",
    "    chunk[float_cols] = chunk[float_cols].astype(\"float32\")\n",
    "\n",
    "    # optional: clean obvious noise immediately\n",
    "    chunk.replace([np.inf, -np.inf], np.nan, inplace=True)\n",
    "    chunk.fillna(method=\"ffill\", inplace=True)\n",
    "    chunk.fillna(method=\"bfill\", inplace=True)\n",
    "\n",
    "    chunks.append(chunk)\n",
    "    rows_loaded += len(chunk)\n",
    "    print(f\"Loaded {rows_loaded:,} rows so far…\")\n",
    "\n",
    "# merge all parts\n",
    "df = pd.concat(chunks, ignore_index=True)\n",
    "del chunks  # free memory\n",
    "\n",
    "print(\"\\nDay 0 loaded successfully\")\n",
    "print(\"Shape :\", df.shape)\n",
    "print(\"Memory (MB):\", round(df.memory_usage(deep=True).sum() / 1024**2, 2))\n"
   ]
  },
  {
   "cell_type": "code",
   "execution_count": null,
   "id": "83d444b4",
   "metadata": {},
   "outputs": [
    {
     "name": "stdout",
     "output_type": "stream",
     "text": [
      "Remaining missing values : 0\n"
     ]
    },
    {
     "name": "stderr",
     "output_type": "stream",
     "text": [
      "C:\\Users\\KESHAV\\AppData\\Local\\Temp\\ipykernel_4328\\2046404741.py:6: FutureWarning: DataFrame.fillna with 'method' is deprecated and will raise in a future version. Use obj.ffill() or obj.bfill() instead.\n",
      "  df.fillna(method=\"ffill\", inplace=True)\n",
      "C:\\Users\\KESHAV\\AppData\\Local\\Temp\\ipykernel_4328\\2046404741.py:7: FutureWarning: DataFrame.fillna with 'method' is deprecated and will raise in a future version. Use obj.ffill() or obj.bfill() instead.\n",
      "  df.fillna(method=\"bfill\", inplace=True)\n"
     ]
    }
   ],
   "source": [
    "# make sure Time is treated as a string before we convert to datetime later\n",
    "df[\"Time\"] = df[\"Time\"].astype(str)\n",
    "\n",
    "# replace any remaining infinities or blanks\n",
    "df.replace([np.inf, - np.inf], np.nan, inplace=True)\n",
    "df.fillna(method=\"ffill\", inplace=True)\n",
    "df.fillna(method=\"bfill\", inplace=True)\n",
    "\n",
    "print(\"Remaining missing values :\", df.isna().sum().sum())\n"
   ]
  },
  {
   "cell_type": "code",
   "execution_count": null,
   "id": "7ffc8f94",
   "metadata": {},
   "outputs": [
    {
     "name": "stdout",
     "output_type": "stream",
     "text": [
      "Number of columns: 437\n",
      "First few rows:\n"
     ]
    },
    {
     "data": {
      "text/html": [
       "<div>\n",
       "<style scoped>\n",
       "    .dataframe tbody tr th:only-of-type {\n",
       "        vertical-align: middle;\n",
       "    }\n",
       "\n",
       "    .dataframe tbody tr th {\n",
       "        vertical-align: top;\n",
       "    }\n",
       "\n",
       "    .dataframe thead th {\n",
       "        text-align: right;\n",
       "    }\n",
       "</style>\n",
       "<table border=\"1\" class=\"dataframe\">\n",
       "  <thead>\n",
       "    <tr style=\"text-align: right;\">\n",
       "      <th></th>\n",
       "      <th>Time</th>\n",
       "      <th>Price</th>\n",
       "      <th>PB1_T1</th>\n",
       "      <th>PB1_T2</th>\n",
       "      <th>PB1_T3</th>\n",
       "      <th>PB1_T4</th>\n",
       "      <th>PB1_T5</th>\n",
       "      <th>PB1_T6</th>\n",
       "      <th>PB1_T7</th>\n",
       "      <th>PB1_T8</th>\n",
       "      <th>...</th>\n",
       "      <th>BB15_T6</th>\n",
       "      <th>BB15_T7</th>\n",
       "      <th>BB15_T8</th>\n",
       "      <th>BB15_T9</th>\n",
       "      <th>BB15_T10</th>\n",
       "      <th>BB15_T11</th>\n",
       "      <th>BB15_T12</th>\n",
       "      <th>BB23</th>\n",
       "      <th>BB24</th>\n",
       "      <th>BB25</th>\n",
       "    </tr>\n",
       "  </thead>\n",
       "  <tbody>\n",
       "    <tr>\n",
       "      <th>0</th>\n",
       "      <td>00:00:00</td>\n",
       "      <td>100.000000</td>\n",
       "      <td>0.4</td>\n",
       "      <td>0.134</td>\n",
       "      <td>0.236667</td>\n",
       "      <td>0.057</td>\n",
       "      <td>0.008</td>\n",
       "      <td>0.033083</td>\n",
       "      <td>-0.007933</td>\n",
       "      <td>0.035067</td>\n",
       "      <td>...</td>\n",
       "      <td>100.003387</td>\n",
       "      <td>100.0084</td>\n",
       "      <td>100.048553</td>\n",
       "      <td>100.086777</td>\n",
       "      <td>100.174545</td>\n",
       "      <td>100.200798</td>\n",
       "      <td>100.269463</td>\n",
       "      <td>0.008731</td>\n",
       "      <td>0.007188</td>\n",
       "      <td>-0.00177</td>\n",
       "    </tr>\n",
       "    <tr>\n",
       "      <th>1</th>\n",
       "      <td>00:00:01</td>\n",
       "      <td>100.007446</td>\n",
       "      <td>0.4</td>\n",
       "      <td>0.134</td>\n",
       "      <td>0.236667</td>\n",
       "      <td>0.057</td>\n",
       "      <td>0.008</td>\n",
       "      <td>0.033083</td>\n",
       "      <td>-0.007933</td>\n",
       "      <td>0.035067</td>\n",
       "      <td>...</td>\n",
       "      <td>100.003387</td>\n",
       "      <td>100.0084</td>\n",
       "      <td>100.048553</td>\n",
       "      <td>100.086777</td>\n",
       "      <td>100.174545</td>\n",
       "      <td>100.200798</td>\n",
       "      <td>100.269463</td>\n",
       "      <td>0.008731</td>\n",
       "      <td>0.007188</td>\n",
       "      <td>-0.00177</td>\n",
       "    </tr>\n",
       "    <tr>\n",
       "      <th>2</th>\n",
       "      <td>00:00:02</td>\n",
       "      <td>99.992722</td>\n",
       "      <td>0.4</td>\n",
       "      <td>0.134</td>\n",
       "      <td>0.236667</td>\n",
       "      <td>0.057</td>\n",
       "      <td>0.008</td>\n",
       "      <td>0.033083</td>\n",
       "      <td>-0.007933</td>\n",
       "      <td>0.035067</td>\n",
       "      <td>...</td>\n",
       "      <td>100.003387</td>\n",
       "      <td>100.0084</td>\n",
       "      <td>100.048553</td>\n",
       "      <td>100.086777</td>\n",
       "      <td>100.174545</td>\n",
       "      <td>100.200798</td>\n",
       "      <td>100.269463</td>\n",
       "      <td>0.008731</td>\n",
       "      <td>0.007188</td>\n",
       "      <td>-0.00177</td>\n",
       "    </tr>\n",
       "  </tbody>\n",
       "</table>\n",
       "<p>3 rows × 437 columns</p>\n",
       "</div>"
      ],
      "text/plain": [
       "       Time       Price  PB1_T1  PB1_T2    PB1_T3  PB1_T4  PB1_T5    PB1_T6  \\\n",
       "0  00:00:00  100.000000     0.4   0.134  0.236667   0.057   0.008  0.033083   \n",
       "1  00:00:01  100.007446     0.4   0.134  0.236667   0.057   0.008  0.033083   \n",
       "2  00:00:02   99.992722     0.4   0.134  0.236667   0.057   0.008  0.033083   \n",
       "\n",
       "     PB1_T7    PB1_T8  ...     BB15_T6   BB15_T7     BB15_T8     BB15_T9  \\\n",
       "0 -0.007933  0.035067  ...  100.003387  100.0084  100.048553  100.086777   \n",
       "1 -0.007933  0.035067  ...  100.003387  100.0084  100.048553  100.086777   \n",
       "2 -0.007933  0.035067  ...  100.003387  100.0084  100.048553  100.086777   \n",
       "\n",
       "     BB15_T10    BB15_T11    BB15_T12      BB23      BB24     BB25  \n",
       "0  100.174545  100.200798  100.269463  0.008731  0.007188 -0.00177  \n",
       "1  100.174545  100.200798  100.269463  0.008731  0.007188 -0.00177  \n",
       "2  100.174545  100.200798  100.269463  0.008731  0.007188 -0.00177  \n",
       "\n",
       "[3 rows x 437 columns]"
      ]
     },
     "execution_count": 12,
     "metadata": {},
     "output_type": "execute_result"
    }
   ],
   "source": [
    "print(\"Number of columns:\", len(df.columns))\n",
    "print(\"First few rows:\")\n",
    "df.head(3)\n"
   ]
  },
  {
   "cell_type": "code",
   "execution_count": null,
   "id": "604b7020",
   "metadata": {},
   "outputs": [
    {
     "name": "stdout",
     "output_type": "stream",
     "text": [
      "✅ Resampled to 1-minute level\n",
      "New shape: (374, 437)\n"
     ]
    },
    {
     "name": "stderr",
     "output_type": "stream",
     "text": [
      "C:\\Users\\KESHAV\\AppData\\Local\\Temp\\ipykernel_4328\\2389054501.py:8: FutureWarning: 'T' is deprecated and will be removed in a future version, please use 'min' instead.\n",
      "  df_min = df.resample('1T').agg({\n"
     ]
    },
    {
     "data": {
      "text/html": [
       "<div>\n",
       "<style scoped>\n",
       "    .dataframe tbody tr th:only-of-type {\n",
       "        vertical-align: middle;\n",
       "    }\n",
       "\n",
       "    .dataframe tbody tr th {\n",
       "        vertical-align: top;\n",
       "    }\n",
       "\n",
       "    .dataframe thead th {\n",
       "        text-align: right;\n",
       "    }\n",
       "</style>\n",
       "<table border=\"1\" class=\"dataframe\">\n",
       "  <thead>\n",
       "    <tr style=\"text-align: right;\">\n",
       "      <th></th>\n",
       "      <th>Time</th>\n",
       "      <th>Price</th>\n",
       "      <th>PB1_T1</th>\n",
       "      <th>PB1_T2</th>\n",
       "      <th>PB1_T3</th>\n",
       "      <th>PB1_T4</th>\n",
       "      <th>PB1_T5</th>\n",
       "      <th>PB1_T6</th>\n",
       "      <th>PB1_T7</th>\n",
       "      <th>PB1_T8</th>\n",
       "      <th>...</th>\n",
       "      <th>BB15_T6</th>\n",
       "      <th>BB15_T7</th>\n",
       "      <th>BB15_T8</th>\n",
       "      <th>BB15_T9</th>\n",
       "      <th>BB15_T10</th>\n",
       "      <th>BB15_T11</th>\n",
       "      <th>BB15_T12</th>\n",
       "      <th>BB23</th>\n",
       "      <th>BB24</th>\n",
       "      <th>BB25</th>\n",
       "    </tr>\n",
       "  </thead>\n",
       "  <tbody>\n",
       "    <tr>\n",
       "      <th>0</th>\n",
       "      <td>1900-01-01 00:00:00</td>\n",
       "      <td>100.012558</td>\n",
       "      <td>0.065900</td>\n",
       "      <td>0.069617</td>\n",
       "      <td>0.130400</td>\n",
       "      <td>0.057000</td>\n",
       "      <td>0.008000</td>\n",
       "      <td>0.033083</td>\n",
       "      <td>-0.007933</td>\n",
       "      <td>0.035067</td>\n",
       "      <td>...</td>\n",
       "      <td>100.003387</td>\n",
       "      <td>100.0084</td>\n",
       "      <td>100.048553</td>\n",
       "      <td>100.086777</td>\n",
       "      <td>100.174545</td>\n",
       "      <td>100.200798</td>\n",
       "      <td>100.269463</td>\n",
       "      <td>0.004846</td>\n",
       "      <td>0.004755</td>\n",
       "      <td>-0.001623</td>\n",
       "    </tr>\n",
       "    <tr>\n",
       "      <th>1</th>\n",
       "      <td>1900-01-01 00:01:00</td>\n",
       "      <td>100.012756</td>\n",
       "      <td>0.003733</td>\n",
       "      <td>-0.012017</td>\n",
       "      <td>-0.030939</td>\n",
       "      <td>-0.048939</td>\n",
       "      <td>-0.002291</td>\n",
       "      <td>0.033083</td>\n",
       "      <td>-0.007933</td>\n",
       "      <td>0.035067</td>\n",
       "      <td>...</td>\n",
       "      <td>100.003387</td>\n",
       "      <td>100.0084</td>\n",
       "      <td>100.048553</td>\n",
       "      <td>100.086777</td>\n",
       "      <td>100.174545</td>\n",
       "      <td>100.200798</td>\n",
       "      <td>100.269463</td>\n",
       "      <td>-0.001036</td>\n",
       "      <td>-0.001286</td>\n",
       "      <td>0.000250</td>\n",
       "    </tr>\n",
       "    <tr>\n",
       "      <th>2</th>\n",
       "      <td>1900-01-01 00:02:00</td>\n",
       "      <td>100.034637</td>\n",
       "      <td>0.122833</td>\n",
       "      <td>0.120317</td>\n",
       "      <td>0.112272</td>\n",
       "      <td>0.085789</td>\n",
       "      <td>0.046880</td>\n",
       "      <td>0.018425</td>\n",
       "      <td>-0.007933</td>\n",
       "      <td>0.035067</td>\n",
       "      <td>...</td>\n",
       "      <td>100.010262</td>\n",
       "      <td>100.0084</td>\n",
       "      <td>100.048553</td>\n",
       "      <td>100.086777</td>\n",
       "      <td>100.174545</td>\n",
       "      <td>100.200798</td>\n",
       "      <td>100.269463</td>\n",
       "      <td>0.002977</td>\n",
       "      <td>0.002859</td>\n",
       "      <td>0.000118</td>\n",
       "    </tr>\n",
       "  </tbody>\n",
       "</table>\n",
       "<p>3 rows × 437 columns</p>\n",
       "</div>"
      ],
      "text/plain": [
       "                 Time       Price    PB1_T1    PB1_T2    PB1_T3    PB1_T4  \\\n",
       "0 1900-01-01 00:00:00  100.012558  0.065900  0.069617  0.130400  0.057000   \n",
       "1 1900-01-01 00:01:00  100.012756  0.003733 -0.012017 -0.030939 -0.048939   \n",
       "2 1900-01-01 00:02:00  100.034637  0.122833  0.120317  0.112272  0.085789   \n",
       "\n",
       "     PB1_T5    PB1_T6    PB1_T7    PB1_T8  ...     BB15_T6   BB15_T7  \\\n",
       "0  0.008000  0.033083 -0.007933  0.035067  ...  100.003387  100.0084   \n",
       "1 -0.002291  0.033083 -0.007933  0.035067  ...  100.003387  100.0084   \n",
       "2  0.046880  0.018425 -0.007933  0.035067  ...  100.010262  100.0084   \n",
       "\n",
       "      BB15_T8     BB15_T9    BB15_T10    BB15_T11    BB15_T12      BB23  \\\n",
       "0  100.048553  100.086777  100.174545  100.200798  100.269463  0.004846   \n",
       "1  100.048553  100.086777  100.174545  100.200798  100.269463 -0.001036   \n",
       "2  100.048553  100.086777  100.174545  100.200798  100.269463  0.002977   \n",
       "\n",
       "       BB24      BB25  \n",
       "0  0.004755 -0.001623  \n",
       "1 -0.001286  0.000250  \n",
       "2  0.002859  0.000118  \n",
       "\n",
       "[3 rows x 437 columns]"
      ]
     },
     "execution_count": 18,
     "metadata": {},
     "output_type": "execute_result"
    }
   ],
   "source": [
    "\n",
    "# Ensure 'Time' is in datetime format\n",
    "df['Time'] = pd.to_datetime(df['Time'], format='%H:%M:%S', errors='coerce')\n",
    "\n",
    "# Set Time as index\n",
    "df = df.set_index('Time')\n",
    "\n",
    "# Resample to 1-minute frequency\n",
    "df_min = df.resample('1T').agg({\n",
    "    'Price': 'last',   # Use last price of each minute\n",
    "    **{col: 'mean' for col in df.columns if col not in ['Price']}  # Take mean for all other features\n",
    "}).reset_index()\n",
    "\n",
    "print(\"✅ Resampled to 1-minute level\")\n",
    "print(\"New shape:\", df_min.shape)\n",
    "df_min.head(3)\n"
   ]
  },
  {
   "cell_type": "code",
   "execution_count": null,
   "id": "7a41f667",
   "metadata": {},
   "outputs": [
    {
     "name": "stdout",
     "output_type": "stream",
     "text": [
      "PB cols: 216  VB cols: 72  BB cols: 147\n"
     ]
    }
   ],
   "source": [
    "# 1) Identify columns by prefix\n",
    "pb_cols = [c for c in df_min.columns if c.startswith('PB')]\n",
    "vb_cols = [c for c in df_min.columns if c.startswith('VB')]\n",
    "bb_cols = [c for c in df_min.columns if c.startswith('BB')]\n",
    "\n",
    "print(f\"PB cols: {len(pb_cols)}  VB cols: {len(vb_cols)}  BB cols: {len(bb_cols)}\")"
   ]
  },
  {
   "cell_type": "code",
   "execution_count": null,
   "id": "2f22c336",
   "metadata": {},
   "outputs": [],
   "source": [
    "# 2) Group aggregates: mean and sum (keeps different signals)\n",
    "df_min['PB_mean'] = df_min[pb_cols].mean(axis=1)\n",
    "df_min['PB_sum']  = df_min[pb_cols].sum(axis=1)\n",
    "\n",
    "df_min['VB_mean'] = df_min[vb_cols].mean(axis=1)\n",
    "df_min['VB_sum']  = df_min[vb_cols].sum(axis=1)\n",
    "\n",
    "df_min['BB_mean'] = df_min[bb_cols].mean(axis=1)\n",
    "df_min['BB_sum']  = df_min[bb_cols].sum(axis=1)"
   ]
  },
  {
   "cell_type": "code",
   "execution_count": null,
   "id": "8618059d",
   "metadata": {},
   "outputs": [],
   "source": [
    "# 3) Top-level imbalance: difference between PB and VB group means (proxy for book skew)\n",
    "df_min['PB_VB_imb'] = df_min['PB_mean'] - df_min['VB_mean']"
   ]
  },
  {
   "cell_type": "code",
   "execution_count": null,
   "id": "e862fe78",
   "metadata": {},
   "outputs": [],
   "source": [
    "# 4) Best-level imbalance (if top-level columns exist like PB1_T1, VB1_T1):\n",
    "#    Use top-3 levels if available (safely check existence).\n",
    "def top_k_cols(cols, k=3):\n",
    "    # try ordering by name (assumes PB1_T1 ... PB1_T2 etc); adjust if naming is different\n",
    "    return cols[:k] if len(cols) >= k else cols\n",
    "\n",
    "top_k = 3\n",
    "pb_top = top_k_cols(pb_cols, top_k)\n",
    "vb_top = top_k_cols(vb_cols, top_k)\n",
    "\n",
    "if pb_top and vb_top:\n",
    "    df_min['PB_top_sum'] = df_min[pb_top].sum(axis=1)\n",
    "    df_min['VB_top_sum'] = df_min[vb_top].sum(axis=1)\n",
    "    df_min['top_imb'] = df_min['PB_top_sum'] - df_min['VB_top_sum']\n",
    "else:\n",
    "    # safe fallback\n",
    "    df_min['PB_top_sum'] = df_min['PB_sum']\n",
    "    df_min['VB_top_sum'] = df_min['VB_sum']\n",
    "    df_min['top_imb'] = df_min['PB_top_sum'] - df_min['VB_top_sum']\n"
   ]
  },
  {
   "cell_type": "code",
   "execution_count": null,
   "id": "cde7b624",
   "metadata": {},
   "outputs": [],
   "source": [
    "# 5) Short-term momentum of group features (1-min differences)\n",
    "df_min['PB_mean_1m_chg'] = df_min['PB_mean'].diff().fillna(0)\n",
    "df_min['VB_mean_1m_chg'] = df_min['VB_mean'].diff().fillna(0)\n",
    "df_min['top_imb_1m_chg'] = df_min['top_imb'].diff().fillna(0)"
   ]
  },
  {
   "cell_type": "code",
   "execution_count": null,
   "id": "ec8570f3",
   "metadata": {},
   "outputs": [],
   "source": [
    "# 6) Rolling z-scores (normalize each feature vs recent history)\n",
    "#    window size: 20 minutes is a common short-term window (adjustable)\n",
    "roll_window = 20\n",
    "\n",
    "def rolling_z(series, w=roll_window):\n",
    "    # rolling mean/std, avoid division by zero\n",
    "    rm = series.rolling(w, min_periods=3).mean()\n",
    "    rs = series.rolling(w, min_periods=3).std().replace(0, np.nan)\n",
    "    z = (series - rm) / rs\n",
    "    return z.fillna(0)\n",
    "\n",
    "df_min['PB_mean_z'] = rolling_z(df_min['PB_mean'])\n",
    "df_min['VB_mean_z'] = rolling_z(df_min['VB_mean'])\n",
    "df_min['top_imb_z']  = rolling_z(df_min['top_imb'])\n",
    "df_min['PB_mean_1m_chg_z'] = rolling_z(df_min['PB_mean_1m_chg'])\n",
    "df_min['top_imb_1m_chg_z'] = rolling_z(df_min['top_imb_1m_chg'])"
   ]
  },
  {
   "cell_type": "code",
   "execution_count": null,
   "id": "0257efdf",
   "metadata": {},
   "outputs": [],
   "source": [
    "# 7) Combine normalized signals into a single score (simple linear combination, no Price used)\n",
    "#    Weights are human-chosen and intentionally simple:\n",
    "df_min['feature_score'] = (\n",
    "      0.5 * df_min['top_imb_z']\n",
    "    + 0.3 * df_min['PB_mean_z']\n",
    "    + 0.2 * df_min['PB_mean_1m_chg_z']\n",
    ")\n"
   ]
  },
  {
   "cell_type": "code",
   "execution_count": null,
   "id": "9abfad8c",
   "metadata": {},
   "outputs": [],
   "source": [
    "# 8) Create final signal (thresholding the feature_score)\n",
    "#    Use thresholds (t_high, t_low) to reduce noise\n",
    "t_high = 1.0   # buy when score > 1\n",
    "t_low  = -1.0  # sell when score < -1\n",
    "\n",
    "df_min['signal'] = 0\n",
    "df_min.loc[df_min['feature_score'] > t_high, 'signal'] = 1\n",
    "df_min.loc[df_min['feature_score'] < t_low,  'signal'] = -1"
   ]
  },
  {
   "cell_type": "code",
   "execution_count": null,
   "id": "01472656",
   "metadata": {},
   "outputs": [],
   "source": [
    "# 9) Optional: require persistence (e.g., signal must remain for N minutes to avoid churn)\n",
    "#    Here we enforce that a new signal only takes effect if same sign persists for 2 consecutive minutes\n",
    "persist = 2\n",
    "df_min['signal_persist'] = df_min['signal']  # copy\n",
    "# simple persistence filter:\n",
    "df_min['signal_persist'] = df_min['signal_persist'].where(\n",
    "    df_min['signal_persist'].rolling(persist, min_periods=1).apply(lambda x: (np.all(x==x[-1])), raw=True).fillna(1).astype(bool),\n",
    "    0\n",
    ")\n"
   ]
  },
  {
   "cell_type": "code",
   "execution_count": null,
   "id": "73a70984",
   "metadata": {},
   "outputs": [
    {
     "name": "stdout",
     "output_type": "stream",
     "text": [
      "Saved minute features → day0_minute_features.csv\n"
     ]
    }
   ],
   "source": [
    "# 10) Final check & save processed minute file (CSV)\n",
    "out_file = \"day0_minute_features.csv\"\n",
    "df_min.to_csv(out_file, index=False)\n",
    "print(\"Saved minute features →\", out_file)"
   ]
  },
  {
   "cell_type": "code",
   "execution_count": null,
   "id": "c3d52810",
   "metadata": {},
   "outputs": [
    {
     "name": "stdout",
     "output_type": "stream",
     "text": [
      "                 Time  signal  signal_persist  feature_score    PB_mean  \\\n",
      "0 1900-01-01 00:00:00       0               0       0.000000  29.880423   \n",
      "1 1900-01-01 00:01:00       0               0       0.000000  30.169979   \n",
      "2 1900-01-01 00:02:00       0               0       0.897692  36.358936   \n",
      "3 1900-01-01 00:03:00       0               0       0.276719  29.957842   \n",
      "4 1900-01-01 00:04:00       0               0      -0.506776  27.599136   \n",
      "5 1900-01-01 00:05:00       1               0       1.050427  36.528286   \n",
      "6 1900-01-01 00:06:00       0               0       0.838890  41.420719   \n",
      "7 1900-01-01 00:07:00       0               0      -0.162947  34.449791   \n",
      "8 1900-01-01 00:08:00       0               0       0.700523  39.343094   \n",
      "9 1900-01-01 00:09:00       0               0      -0.341854  33.555752   \n",
      "\n",
      "    VB_mean     top_imb  PB_mean_1m_chg  \n",
      "0  7.319431 -136.195038        0.000000  \n",
      "1  7.018849 -121.211372        0.289557  \n",
      "2  6.815117 -120.030685        6.188957  \n",
      "3  6.299520  -94.052582       -6.401094  \n",
      "4  6.750227 -122.920303       -2.358706  \n",
      "5  6.611369 -105.010864        8.929150  \n",
      "6  6.291397 -109.466492        4.892433  \n",
      "7  6.529860 -114.872551       -6.970928  \n",
      "8  6.482092 -109.251678        4.893303  \n",
      "9  6.460128 -117.370316       -5.787342  \n"
     ]
    }
   ],
   "source": [
    "# show a short sample of key columns\n",
    "display_cols = ['Time','signal','signal_persist','feature_score','PB_mean','VB_mean','top_imb','PB_mean_1m_chg']\n",
    "print(df_min[display_cols].head(10))"
   ]
  },
  {
   "cell_type": "code",
   "execution_count": null,
   "id": "49cbb39a",
   "metadata": {},
   "outputs": [
    {
     "name": "stdout",
     "output_type": "stream",
     "text": [
      "=== Strategy Performance Summary ===\n",
      "Total Return     : 0.06%\n",
      "Sharpe (approx.) : 1.00\n",
      "Max Drawdown     : 0.00%\n",
      "====================================\n"
     ]
    },
    {
     "data": {
      "image/png": "[encoded data removed]",
      "text/plain": [
       "<Figure size 1000x400 with 1 Axes>"
      ]
     },
     "metadata": {},
     "output_type": "display_data"
    }
   ],
   "source": [
    "# ---------- Step 6 : Backtesting / Evaluation ----------\n",
    "\n",
    "# 1) Ensure chronological order\n",
    "df_min = df_min.sort_values('Time').reset_index(drop=True)\n",
    "\n",
    "# 2) Compute simple minute returns from Price\n",
    "df_min['return'] = df_min['Price'].pct_change().fillna(0)\n",
    "\n",
    "# 3) Strategy return: position (signal_persist) * next minute return\n",
    "df_min['strategy_ret'] = df_min['signal_persist'].shift(1) * df_min['return']   # shift avoids lookahead bias\n",
    "\n",
    "# 4) Cumulative performance\n",
    "df_min['cum_market']   = (1 + df_min['return']).cumprod()\n",
    "df_min['cum_strategy'] = (1 + df_min['strategy_ret']).cumprod()\n",
    "\n",
    "# 5) Key performance metrics\n",
    "total_return = df_min['cum_strategy'].iloc[-1] - 1\n",
    "daily_returns = df_min['strategy_ret'].dropna()\n",
    "sharpe = (daily_returns.mean() / daily_returns.std()) * np.sqrt(len(daily_returns))\n",
    "max_drawdown = (df_min['cum_strategy'] / df_min['cum_strategy'].cummax() - 1).min()\n",
    "\n",
    "print(\"=== Strategy Performance Summary ===\")\n",
    "print(f\"Total Return     : {total_return*100:.2f}%\")\n",
    "print(f\"Sharpe (approx.) : {sharpe:.2f}\")\n",
    "print(f\"Max Drawdown     : {max_drawdown*100:.2f}%\")\n",
    "print(\"====================================\")\n",
    "\n",
    "# 6) Optional visualization\n",
    "import matplotlib.pyplot as plt\n",
    "plt.figure(figsize=(10,4))\n",
    "plt.plot(df_min['Time'], df_min['cum_market'], label='Market (Price)')\n",
    "plt.plot(df_min['Time'], df_min['cum_strategy'], label='Strategy (Signal)', linewidth=2)\n",
    "plt.legend()\n",
    "plt.title(\"Cumulative Return Comparison\")\n",
    "plt.xlabel(\"Time\")\n",
    "plt.ylabel(\"Cumulative Return\")\n",
    "plt.tight_layout()\n",
    "plt.show()\n"
   ]
  },
  {
   "cell_type": "code",
   "execution_count": null,
   "id": "5d162f8c",
   "metadata": {},
   "outputs": [
    {
     "name": "stdout",
     "output_type": "stream",
     "text": [
      "✅ Built new volume-based signal\n"
     ]
    },
    {
     "data": {
      "text/html": [
       "<div>\n",
       "<style scoped>\n",
       "    .dataframe tbody tr th:only-of-type {\n",
       "        vertical-align: middle;\n",
       "    }\n",
       "\n",
       "    .dataframe tbody tr th {\n",
       "        vertical-align: top;\n",
       "    }\n",
       "\n",
       "    .dataframe thead th {\n",
       "        text-align: right;\n",
       "    }\n",
       "</style>\n",
       "<table border=\"1\" class=\"dataframe\">\n",
       "  <thead>\n",
       "    <tr style=\"text-align: right;\">\n",
       "      <th></th>\n",
       "      <th>Time</th>\n",
       "      <th>vb_mom_signal</th>\n",
       "      <th>VB_spike</th>\n",
       "      <th>new_signal</th>\n",
       "    </tr>\n",
       "  </thead>\n",
       "  <tbody>\n",
       "    <tr>\n",
       "      <th>369</th>\n",
       "      <td>1900-01-01 06:09:00</td>\n",
       "      <td>-1</td>\n",
       "      <td>0</td>\n",
       "      <td>0</td>\n",
       "    </tr>\n",
       "    <tr>\n",
       "      <th>370</th>\n",
       "      <td>1900-01-01 06:10:00</td>\n",
       "      <td>-1</td>\n",
       "      <td>0</td>\n",
       "      <td>0</td>\n",
       "    </tr>\n",
       "    <tr>\n",
       "      <th>371</th>\n",
       "      <td>1900-01-01 06:11:00</td>\n",
       "      <td>-1</td>\n",
       "      <td>0</td>\n",
       "      <td>0</td>\n",
       "    </tr>\n",
       "    <tr>\n",
       "      <th>372</th>\n",
       "      <td>1900-01-01 06:12:00</td>\n",
       "      <td>-1</td>\n",
       "      <td>0</td>\n",
       "      <td>0</td>\n",
       "    </tr>\n",
       "    <tr>\n",
       "      <th>373</th>\n",
       "      <td>1900-01-01 06:13:00</td>\n",
       "      <td>-1</td>\n",
       "      <td>0</td>\n",
       "      <td>0</td>\n",
       "    </tr>\n",
       "  </tbody>\n",
       "</table>\n",
       "</div>"
      ],
      "text/plain": [
       "                   Time  vb_mom_signal  VB_spike  new_signal\n",
       "369 1900-01-01 06:09:00             -1         0           0\n",
       "370 1900-01-01 06:10:00             -1         0           0\n",
       "371 1900-01-01 06:11:00             -1         0           0\n",
       "372 1900-01-01 06:12:00             -1         0           0\n",
       "373 1900-01-01 06:13:00             -1         0           0"
      ]
     },
     "execution_count": 32,
     "metadata": {},
     "output_type": "execute_result"
    }
   ],
   "source": [
    "# -------- Step 7A: New volume-based composite signal --------\n",
    "\n",
    "# 1. Use overall VB group (mean across VB columns)\n",
    "vb_cols = [col for col in df_min.columns if col.startswith(\"VB\")]\n",
    "df_min['VB_mean'] = df_min[vb_cols].mean(axis=1)\n",
    "\n",
    "# 2. Rolling fast and slow MAs of volume\n",
    "df_min['VB_fast'] = df_min['VB_mean'].rolling(5).mean()\n",
    "df_min['VB_slow'] = df_min['VB_mean'].rolling(20).mean()\n",
    "\n",
    "# Signal 1: VB momentum (fast vs slow)\n",
    "df_min['vb_mom_signal'] = 0\n",
    "df_min.loc[df_min['VB_fast'] > df_min['VB_slow'], 'vb_mom_signal'] = 1\n",
    "df_min.loc[df_min['VB_fast'] < df_min['VB_slow'], 'vb_mom_signal'] = -1\n",
    "\n",
    "# 3. Volume spike condition (e.g. 1.5x rolling 20-min average)\n",
    "df_min['VB_roll_avg'] = df_min['VB_mean'].rolling(20).mean()\n",
    "df_min['VB_spike'] = (df_min['VB_mean'] > 1.5 * df_min['VB_roll_avg']).astype(int)\n",
    "\n",
    "# Optional 4. Entropy of recent VB — skip if complex; add later\n",
    "\n",
    "# 5. Composite signal (only trade if BOTH volume momentum and spike agree)\n",
    "df_min['new_signal'] = 0\n",
    "df_min.loc[(df_min['vb_mom_signal'] == 1) & (df_min['VB_spike'] == 1), 'new_signal'] = 1\n",
    "df_min.loc[(df_min['vb_mom_signal'] == -1) & (df_min['VB_spike'] == 1), 'new_signal'] = -1\n",
    "\n",
    "print(\"✅ Built new volume-based signal\")\n",
    "df_min[['Time', 'vb_mom_signal', 'VB_spike', 'new_signal']].tail(5)\n"
   ]
  },
  {
   "cell_type": "code",
   "execution_count": null,
   "id": "5aad2a98",
   "metadata": {},
   "outputs": [
    {
     "data": {
      "image/png": "[encoded data removed]",
      "text/plain": [
       "<Figure size 1000x400 with 1 Axes>"
      ]
     },
     "metadata": {},
     "output_type": "display_data"
    },
    {
     "name": "stdout",
     "output_type": "stream",
     "text": [
      "=== NEW STRATEGY PERFORMANCE ===\n",
      "Total Return     : 0.00%\n",
      "Sharpe (approx.) : nan\n",
      "Max Drawdown     : 0.00%\n"
     ]
    },
    {
     "name": "stderr",
     "output_type": "stream",
     "text": [
      "C:\\Users\\KESHAV\\AppData\\Local\\Temp\\ipykernel_4328\\630213600.py:19: RuntimeWarning: invalid value encountered in scalar divide\n",
      "  sharpe = df_min['strategy_ret_new'].mean() / df_min['strategy_ret_new'].std() * np.sqrt(len(df_min))\n"
     ]
    }
   ],
   "source": [
    "# -------- Step 7B: Evaluate new_signal --------\n",
    "\n",
    "df_min['strategy_ret_new'] = df_min['new_signal'].shift(1) * df_min['return']\n",
    "df_min['cum_strategy_new'] = (1 + df_min['strategy_ret_new']).cumprod()\n",
    "\n",
    "# Plot new vs market\n",
    "plt.figure(figsize=(10,4))\n",
    "plt.plot(df_min['Time'], df_min['cum_market'], label='Market (Price)')\n",
    "plt.plot(df_min['Time'], df_min['cum_strategy_new'], label='New Signal Strategy', linewidth=2)\n",
    "plt.legend()\n",
    "plt.title(\"Cumulative Return (New Strategy)\")\n",
    "plt.xlabel(\"Time\")\n",
    "plt.ylabel(\"Cumulative Return\")\n",
    "plt.tight_layout()\n",
    "plt.show()\n",
    "\n",
    "# Metrics\n",
    "ret = df_min['cum_strategy_new'].iloc[-1] - 1\n",
    "sharpe = df_min['strategy_ret_new'].mean() / df_min['strategy_ret_new'].std() * np.sqrt(len(df_min))\n",
    "drawdown = (df_min['cum_strategy_new'] / df_min['cum_strategy_new'].cummax() - 1).min()\n",
    "\n",
    "print(\"=== NEW STRATEGY PERFORMANCE ===\")\n",
    "print(f\"Total Return     : {ret*100:.2f}%\")\n",
    "print(f\"Sharpe (approx.) : {sharpe:.2f}\")\n",
    "print(f\"Max Drawdown     : {drawdown*100:.2f}%\")\n"
   ]
  },
  {
   "cell_type": "code",
   "execution_count": null,
   "id": "488d6cc4",
   "metadata": {},
   "outputs": [],
   "source": [
    "import scipy.stats as stats\n",
    "\n",
    "# -------- Step 8: Entropy + PB/VB asymmetry signal --------\n",
    "\n",
    "# 1. Calculate rolling entropy of VB (entropy drops when stable/trending)\n",
    "def compute_entropy(series, window=10, bins=10):\n",
    "    result = []\n",
    "    for i in range(len(series)):\n",
    "        if i < window:\n",
    "            result.append(np.nan)\n",
    "            continue\n",
    "        window_data = series.iloc[i-window:i]\n",
    "        hist, _ = np.histogram(window_data, bins=bins, density=True)\n",
    "        hist += 1e-8  # avoid log(0)\n",
    "        ent = -np.sum(hist * np.log(hist))\n",
    "        result.append(ent)\n",
    "    return pd.Series(result, index=series.index)\n",
    "\n",
    "df_min['VB_entropy'] = compute_entropy(df_min['VB_mean'])\n",
    "\n",
    "# 2. Normalize entropy to z-score\n",
    "df_min['VB_entropy_z'] = (\n",
    "    df_min['VB_entropy'] - df_min['VB_entropy'].rolling(20).mean()\n",
    ") / (df_min['VB_entropy'].rolling(20).std() + 1e-6)\n",
    "\n",
    "# 3. Define asymmetry: PB group - VB group\n",
    "df_min['asymmetry'] = df_min['PB_mean'] - df_min['VB_mean']\n",
    "\n",
    "# 4. Threshold rules:\n",
    "# - act only when entropy is low (z < -0.5, i.e. trending phase)\n",
    "# - and asymmetry is significant (e.g. > +0.5 or < -0.5)\n",
    "df_min['entropy_flag'] = (df_min['VB_entropy_z'] < -0.5).astype(int)\n",
    "df_min['asymmetry_flag'] = 0\n",
    "df_min.loc[df_min['asymmetry'] > 0.5, 'asymmetry_flag'] = 1\n",
    "df_min.loc[df_min['asymmetry'] < -0.5, 'asymmetry_flag'] = -1\n",
    "\n",
    "# 5. Final composite signal: only trigger if both filters agree\n",
    "df_min['composite_signal'] = df_min['entropy_flag'] * df_min['asymmetry_flag']\n",
    "\n",
    "# Clean out jumps\n",
    "df_min['composite_signal'] = df_min['composite_signal'].fillna(0).astype(int)\n"
   ]
  },
  {
   "cell_type": "code",
   "execution_count": null,
   "id": "1a7a4247",
   "metadata": {},
   "outputs": [
    {
     "data": {
      "image/png": "[encoded data removed]",
      "text/plain": [
       "<Figure size 1000x400 with 1 Axes>"
      ]
     },
     "metadata": {},
     "output_type": "display_data"
    },
    {
     "name": "stdout",
     "output_type": "stream",
     "text": [
      "=== COMPOSITE STRATEGY PERFORMANCE ===\n",
      "Total Return     : -0.26%\n",
      "Sharpe (approx.) : -0.91\n",
      "Max Drawdown     : -0.38%\n"
     ]
    }
   ],
   "source": [
    "df_min['strategy_ret_composite'] = df_min['composite_signal'].shift(1) * df_min['return']\n",
    "df_min['cum_strategy_composite'] = (1 + df_min['strategy_ret_composite']).cumprod()\n",
    "\n",
    "plt.figure(figsize=(10,4))\n",
    "plt.plot(df_min['Time'], df_min['cum_market'], label='Market')\n",
    "plt.plot(df_min['Time'], df_min['cum_strategy_composite'], label='Composite Strategy')\n",
    "plt.legend()\n",
    "plt.title(\"Cumulative Return: Entropy + Asymmetry Strategy\")\n",
    "plt.show()\n",
    "\n",
    "# Metrics\n",
    "ret = df_min['cum_strategy_composite'].iloc[-1] - 1\n",
    "sharpe = df_min['strategy_ret_composite'].mean() / df_min['strategy_ret_composite'].std() * np.sqrt(len(df_min))\n",
    "drawdown = (df_min['cum_strategy_composite'] / df_min['cum_strategy_composite'].cummax() - 1).min()\n",
    "\n",
    "print(\"=== COMPOSITE STRATEGY PERFORMANCE ===\")\n",
    "print(f\"Total Return     : {ret*100:.2f}%\")\n",
    "print(f\"Sharpe (approx.) : {sharpe:.2f}\")\n",
    "print(f\"Max Drawdown     : {drawdown*100:.2f}%\")\n"
   ]
  },
  {
   "cell_type": "code",
   "execution_count": null,
   "id": "9e5c5102",
   "metadata": {},
   "outputs": [],
   "source": [
    "# Compute future (next-minute) price return for evaluation\n",
    "df_min['future_ret'] = df_min['Price'].pct_change().shift(-1)\n"
   ]
  },
  {
   "cell_type": "code",
   "execution_count": null,
   "id": "a00d8f8e",
   "metadata": {},
   "outputs": [],
   "source": [
    "# List the features used in scoring\n",
    "feature_cols = ['PB_mean', 'VB_mean', 'BB_mean', 'top_imb', 'PB_mean_1m_chg', 'VB_entropy_z']\n",
    "\n",
    "# Create a lagged version of these features\n",
    "for col in feature_cols:\n",
    "    df_min[col + '_lag'] = df_min[col].shift(1)\n"
   ]
  },
  {
   "cell_type": "code",
   "execution_count": null,
   "id": "fb55499e",
   "metadata": {},
   "outputs": [
    {
     "name": "stdout",
     "output_type": "stream",
     "text": [
      "Correlation with next-minute return:\n",
      "VB_mean_lag          -0.002953\n",
      "VB_entropy_z_lag     -0.021684\n",
      "PB_mean_lag          -0.029567\n",
      "PB_mean_1m_chg_lag   -0.049066\n",
      "BB_mean_lag          -0.107329\n",
      "top_imb_lag          -0.147485\n",
      "dtype: float64\n"
     ]
    }
   ],
   "source": [
    "# Compute correlation between lagged features and future return\n",
    "corr = df_min[[col + '_lag' for col in feature_cols]].corrwith(df_min['future_ret'])\n",
    "print(\"Correlation with next-minute return:\")\n",
    "print(corr.sort_values(ascending=False))\n"
   ]
  },
  {
   "cell_type": "code",
   "execution_count": null,
   "id": "4dd8f014",
   "metadata": {},
   "outputs": [],
   "source": [
    "weights = {\n",
    "    'PB_mean_lag': -0.2,              # weak negative correlation\n",
    "    'VB_mean_lag': 0.0,               # near zero\n",
    "    'BB_mean_lag': -0.2,              # modest negative correlation\n",
    "    'top_imb_lag': -0.4,              # strongest negative correlation\n",
    "    'PB_mean_1m_chg_lag': -0.1,       # small negative\n",
    "    'VB_entropy_z_lag': 0.0           # close to zero\n",
    "}\n",
    "\n",
    "df_min['score'] = sum(df_min[f] * w for f, w in weights.items())\n"
   ]
  },
  {
   "cell_type": "code",
   "execution_count": null,
   "id": "f74fd1ba",
   "metadata": {},
   "outputs": [],
   "source": [
    "t_high = 0.5\n",
    "t_low = -0.5\n",
    "\n",
    "df_min['soft_signal'] = 0\n",
    "df_min.loc[df_min['score'] > t_high, 'soft_signal'] = 1\n",
    "df_min.loc[df_min['score'] < t_low, 'soft_signal'] = -1\n"
   ]
  },
  {
   "cell_type": "code",
   "execution_count": null,
   "id": "ef10a08f",
   "metadata": {},
   "outputs": [],
   "source": [
    "from itertools import product\n",
    "\n",
    "# Select strongest features\n",
    "selected_features = ['PB_mean_lag', 'BB_mean_lag', 'top_imb_lag', 'PB_mean_1m_chg_lag']\n",
    "\n",
    "# Define possible weights for each (try –1.0 to +1.0 in steps)\n",
    "weight_grid = [-0.5, -0.2, 0, 0.2, 0.5]\n"
   ]
  },
  {
   "cell_type": "code",
   "execution_count": null,
   "id": "585ca45d",
   "metadata": {},
   "outputs": [
    {
     "name": "stdout",
     "output_type": "stream",
     "text": [
      "✅ Best Sharpe: 2.63\n",
      "Best Weights: {'PB_mean_lag': -0.2, 'BB_mean_lag': -0.2, 'top_imb_lag': -0.2, 'PB_mean_1m_chg_lag': 0.2}\n",
      "Total Return: 2.07 %\n"
     ]
    }
   ],
   "source": [
    "best_result = {'sharpe': -np.inf}\n",
    "results = []\n",
    "\n",
    "for weights in product(weight_grid, repeat=len(selected_features)):\n",
    "    # Create score\n",
    "    df_min['score_grid'] = 0\n",
    "    for i, f in enumerate(selected_features):\n",
    "        df_min['score_grid'] += df_min[f] * weights[i]\n",
    "    \n",
    "    # Generate signal\n",
    "    df_min['signal_grid'] = 0\n",
    "    df_min.loc[df_min['score_grid'] > 0.5, 'signal_grid'] = 1\n",
    "    df_min.loc[df_min['score_grid'] < -0.5, 'signal_grid'] = -1\n",
    "\n",
    "    # Backtest\n",
    "    ret = df_min['signal_grid'].shift(1) * df_min['return']\n",
    "    sharpe = ret.mean() / (ret.std() + 1e-9) * np.sqrt(len(ret))\n",
    "\n",
    "    # Save result\n",
    "    results.append((weights, sharpe))\n",
    "    if sharpe > best_result['sharpe']:\n",
    "        best_result = {\n",
    "            'sharpe': sharpe,\n",
    "            'weights': weights,\n",
    "            'return': (1 + ret).prod() - 1,\n",
    "            'weights_dict': dict(zip(selected_features, weights))\n",
    "        }\n",
    "\n",
    "print(\"✅ Best Sharpe:\", round(best_result['sharpe'], 2))\n",
    "print(\"Best Weights:\", best_result['weights_dict'])\n",
    "print(\"Total Return:\", round(best_result['return']*100, 2), \"%\")\n"
   ]
  },
  {
   "cell_type": "code",
   "execution_count": null,
   "id": "bf6ee618",
   "metadata": {},
   "outputs": [
    {
     "ename": "NameError",
     "evalue": "name 'best_result' is not defined",
     "output_type": "error",
     "traceback": [
      "\u001b[1;31m---------------------------------------------------------------------------\u001b[0m",
      "\u001b[1;31mNameError\u001b[0m                                 Traceback (most recent call last)",
      "Cell \u001b[1;32mIn[7], line 2\u001b[0m\n\u001b[0;32m      1\u001b[0m \u001b[38;5;66;03m# Final signal from best weights\u001b[39;00m\n\u001b[1;32m----> 2\u001b[0m df_min[\u001b[38;5;124m'\u001b[39m\u001b[38;5;124mscore\u001b[39m\u001b[38;5;124m'\u001b[39m] \u001b[38;5;241m=\u001b[39m \u001b[38;5;28msum\u001b[39m(df_min[f] \u001b[38;5;241m*\u001b[39m w \u001b[38;5;28;01mfor\u001b[39;00m f, w \u001b[38;5;129;01min\u001b[39;00m best_result[\u001b[38;5;124m'\u001b[39m\u001b[38;5;124mweights_dict\u001b[39m\u001b[38;5;124m'\u001b[39m]\u001b[38;5;241m.\u001b[39mitems())\n\u001b[0;32m      4\u001b[0m df_min[\u001b[38;5;124m'\u001b[39m\u001b[38;5;124msoft_signal\u001b[39m\u001b[38;5;124m'\u001b[39m] \u001b[38;5;241m=\u001b[39m \u001b[38;5;241m0\u001b[39m\n\u001b[0;32m      5\u001b[0m df_min\u001b[38;5;241m.\u001b[39mloc[df_min[\u001b[38;5;124m'\u001b[39m\u001b[38;5;124mscore\u001b[39m\u001b[38;5;124m'\u001b[39m] \u001b[38;5;241m>\u001b[39m \u001b[38;5;241m0.5\u001b[39m, \u001b[38;5;124m'\u001b[39m\u001b[38;5;124msoft_signal\u001b[39m\u001b[38;5;124m'\u001b[39m] \u001b[38;5;241m=\u001b[39m \u001b[38;5;241m1\u001b[39m\n",
      "\u001b[1;31mNameError\u001b[0m: name 'best_result' is not defined"
     ]
    }
   ],
   "source": [
    "# Final signal from best weights\n",
    "df_min['score'] = sum(df_min[f] * w for f, w in best_result['weights_dict'].items())\n",
    "\n",
    "df_min['soft_signal'] = 0\n",
    "df_min.loc[df_min['score'] > 0.5, 'soft_signal'] = 1\n",
    "df_min.loc[df_min['score'] < -0.5, 'soft_signal'] = -1\n"
   ]
  },
  {
   "cell_type": "code",
   "execution_count": null,
   "id": "a21a82ac",
   "metadata": {},
   "outputs": [
    {
     "ename": "NameError",
     "evalue": "name 'df_min' is not defined",
     "output_type": "error",
     "traceback": [
      "\u001b[1;31m---------------------------------------------------------------------------\u001b[0m",
      "\u001b[1;31mNameError\u001b[0m                                 Traceback (most recent call last)",
      "Cell \u001b[1;32mIn[6], line 2\u001b[0m\n\u001b[0;32m      1\u001b[0m \u001b[38;5;66;03m# ---------- Final Backtest Using Autotuned Weights ----------\u001b[39;00m\n\u001b[1;32m----> 2\u001b[0m df_min[\u001b[38;5;124m'\u001b[39m\u001b[38;5;124mstrategy_ret_soft\u001b[39m\u001b[38;5;124m'\u001b[39m] \u001b[38;5;241m=\u001b[39m df_min[\u001b[38;5;124m'\u001b[39m\u001b[38;5;124msoft_signal\u001b[39m\u001b[38;5;124m'\u001b[39m]\u001b[38;5;241m.\u001b[39mshift(\u001b[38;5;241m1\u001b[39m) \u001b[38;5;241m*\u001b[39m df_min[\u001b[38;5;124m'\u001b[39m\u001b[38;5;124mreturn\u001b[39m\u001b[38;5;124m'\u001b[39m]\n\u001b[0;32m      3\u001b[0m df_min[\u001b[38;5;124m'\u001b[39m\u001b[38;5;124mcum_strategy_soft\u001b[39m\u001b[38;5;124m'\u001b[39m] \u001b[38;5;241m=\u001b[39m (\u001b[38;5;241m1\u001b[39m \u001b[38;5;241m+\u001b[39m df_min[\u001b[38;5;124m'\u001b[39m\u001b[38;5;124mstrategy_ret_soft\u001b[39m\u001b[38;5;124m'\u001b[39m])\u001b[38;5;241m.\u001b[39mcumprod()\n\u001b[0;32m      5\u001b[0m \u001b[38;5;66;03m# Market baseline\u001b[39;00m\n",
      "\u001b[1;31mNameError\u001b[0m: name 'df_min' is not defined"
     ]
    }
   ],
   "source": [
    "# ---------- Final Backtest Using Autotuned Weights ----------\n",
    "df_min['strategy_ret_soft'] = df_min['soft_signal'].shift(1) * df_min['return']\n",
    "df_min['cum_strategy_soft'] = (1 + df_min['strategy_ret_soft']).cumprod()\n",
    "\n",
    "# Market baseline\n",
    "df_min['cum_market'] = (1 + df_min['return']).cumprod()\n",
    "\n",
    "# Plot comparison\n",
    "plt.figure(figsize=(10,4))\n",
    "plt.plot(df_min['Time'], df_min['cum_market'], label='Market (Price)', alpha=0.6)\n",
    "plt.plot(df_min['Time'], df_min['cum_strategy_soft'], label='Strategy (Autotuned)', linewidth=2)\n",
    "plt.title(\"📈 Backtest: Autotuned Strategy vs Market\")\n",
    "plt.xlabel(\"Time\")\n",
    "plt.ylabel(\"Cumulative Return\")\n",
    "plt.legend()\n",
    "plt.tight_layout()\n",
    "plt.show()\n",
    "\n",
    "# Metrics\n",
    "ret = df_min['cum_strategy_soft'].iloc[-1] - 1\n",
    "sharpe = df_min['strategy_ret_soft'].mean() / (df_min['strategy_ret_soft'].std() + 1e-9) * np.sqrt(len(df_min))\n",
    "drawdown = (df_min['cum_strategy_soft'] / df_min['cum_strategy_soft'].cummax() - 1).min()\n",
    "\n",
    "print(\"=== FINAL STRATEGY PERFORMANCE ===\")\n",
    "print(f\"Total Return     : {ret*100:.2f}%\")\n",
    "print(f\"Sharpe (approx.) : {sharpe:.2f}\")\n",
    "print(f\"Max Drawdown     : {drawdown*100:.2f}%\")\n",
    "print(\"Calmar Ratio:\", calmar_ratio(df['equity']))\n",
    "print(\"Max Drawdown:\", ((df['equity'].cummax() - df['equity']) / df['equity'].cummax()).max())\n",
    "print(\"Number of Trades:\", len(df[df['pnl'] != 0]))\n"
   ]
  },
  {
   "cell_type": "code",
   "execution_count": null,
   "id": "4e6bca35",
   "metadata": {},
   "outputs": [],
   "source": []
  },
  {
   "cell_type": "code",
   "execution_count": null,
   "id": "e4dc0e4f",
   "metadata": {},
   "outputs": [],
   "source": []
  },
  {
   "cell_type": "code",
   "execution_count": null,
   "id": "2e867616",
   "metadata": {},
   "outputs": [],
   "source": []
  },
  {
   "cell_type": "code",
   "execution_count": null,
   "id": "ee454485",
   "metadata": {},
   "outputs": [],
   "source": []
  },
  {
   "cell_type": "code",
   "execution_count": null,
   "id": "f702002d",
   "metadata": {},
   "outputs": [],
   "source": []
  },
  {
   "cell_type": "code",
   "execution_count": null,
   "id": "c34f0c4e",
   "metadata": {},
   "outputs": [],
   "source": []
  },
  {
   "cell_type": "code",
   "execution_count": null,
   "id": "f1773b34",
   "metadata": {},
   "outputs": [],
   "source": []
  },
  {
   "cell_type": "code",
   "execution_count": null,
   "id": "702fc873",
   "metadata": {},
   "outputs": [],
   "source": []
  },
  {
   "cell_type": "code",
   "execution_count": null,
   "id": "e2baf7f7",
   "metadata": {},
   "outputs": [],
   "source": []
  },
  {
   "cell_type": "code",
   "execution_count": null,
   "id": "b127e059",
   "metadata": {},
   "outputs": [],
   "source": []
  },
  {
   "cell_type": "code",
   "execution_count": null,
   "id": "3b4b5479",
   "metadata": {},
   "outputs": [],
   "source": []
  },
  {
   "cell_type": "code",
   "execution_count": null,
   "id": "ff128fec",
   "metadata": {},
   "outputs": [],
   "source": []
  },
  {
   "cell_type": "code",
   "execution_count": null,
   "id": "3393d516",
   "metadata": {},
   "outputs": [],
   "source": []
  },
  {
   "cell_type": "code",
   "execution_count": null,
   "id": "d4cdd65c",
   "metadata": {},
   "outputs": [],
   "source": []
  },
  {
   "cell_type": "code",
   "execution_count": null,
   "id": "a6b2ca4e",
   "metadata": {},
   "outputs": [],
   "source": []
  }
 ],
 "metadata": {
  "kernelspec": {
   "display_name": "base",
   "language": "python",
   "name": "python3"
  },
  "language_info": {
   "codemirror_mode": {
    "name": "ipython",
    "version": 3
   },
   "file_extension": ".py",
   "mimetype": "text/x-python",
   "name": "python",
   "nbconvert_exporter": "python",
   "pygments_lexer": "ipython3",
   "version": "3.12.7"
  }
 },
 "nbformat": 4,
 "nbformat_minor": 5
}
